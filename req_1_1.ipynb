{
 "cells": [
  {
   "cell_type": "code",
   "execution_count": 1,
   "metadata": {},
   "outputs": [],
   "source": [
    "import mysql.connector as mariadb\n",
    "import pyspark\n",
    "from pyspark.sql import SparkSession\n",
    "\n",
    "spark = SparkSession.builder.appName('Cap1.com').getOrCreate()"
   ]
  },
  {
   "attachments": {},
   "cell_type": "markdown",
   "metadata": {},
   "source": [
    "Spark libraries imported and session created."
   ]
  },
  {
   "cell_type": "code",
   "execution_count": 57,
   "metadata": {},
   "outputs": [],
   "source": [
    "df_branch = spark.read.json(\"credit_card_dataset\\cdw_sapp_branch.json\")\n",
    "df_credit = spark.read.json(\"credit_card_dataset\\cdw_sapp_credit.json\")\n",
    "df_customer = spark.read.json(\"credit_card_dataset\\cdw_sapp_custmer.json\")"
   ]
  },
  {
   "cell_type": "code",
   "execution_count": 35,
   "metadata": {},
   "outputs": [
    {
     "data": {
      "text/plain": [
       "<bound method DataFrame.printSchema of DataFrame[BRANCH_CITY: string, BRANCH_CODE: bigint, BRANCH_NAME: string, BRANCH_PHONE: string, BRANCH_STATE: string, BRANCH_STREET: string, BRANCH_ZIP: bigint, LAST_UPDATED: string]>"
      ]
     },
     "execution_count": 35,
     "metadata": {},
     "output_type": "execute_result"
    }
   ],
   "source": [
    "df_branch.printSchema"
   ]
  },
  {
   "cell_type": "code",
   "execution_count": 36,
   "metadata": {},
   "outputs": [
    {
     "data": {
      "text/plain": [
       "<bound method DataFrame.printSchema of DataFrame[BRANCH_CODE: bigint, CREDIT_CARD_NO: string, CUST_SSN: bigint, DAY: bigint, MONTH: bigint, TRANSACTION_ID: bigint, TRANSACTION_TYPE: string, TRANSACTION_VALUE: double, YEAR: bigint]>"
      ]
     },
     "execution_count": 36,
     "metadata": {},
     "output_type": "execute_result"
    }
   ],
   "source": [
    "df_credit.printSchema"
   ]
  },
  {
   "cell_type": "code",
   "execution_count": 10,
   "metadata": {},
   "outputs": [
    {
     "data": {
      "text/plain": [
       "<bound method DataFrame.printSchema of DataFrame[APT_NO: string, CREDIT_CARD_NO: string, CUST_CITY: string, CUST_COUNTRY: string, CUST_EMAIL: string, CUST_PHONE: bigint, CUST_STATE: string, CUST_ZIP: string, FIRST_NAME: string, LAST_NAME: string, LAST_UPDATED: string, MIDDLE_NAME: string, SSN: bigint, STREET_NAME: string]>"
      ]
     },
     "execution_count": 10,
     "metadata": {},
     "output_type": "execute_result"
    }
   ],
   "source": [
    "df_customer.printSchema"
   ]
  },
  {
   "attachments": {},
   "cell_type": "markdown",
   "metadata": {},
   "source": [
    "Now connecting to MariaDB and creating the database with 3 tables."
   ]
  },
  {
   "cell_type": "code",
   "execution_count": 14,
   "metadata": {},
   "outputs": [
    {
     "name": "stdout",
     "output_type": "stream",
     "text": [
      "connecting to MariaDB...\n",
      "creditcard_capstone database created\n"
     ]
    }
   ],
   "source": [
    "con = mariadb.connect(\n",
    "    host = \"localhost\",\n",
    "    user = \"root\",\n",
    "    password = \"password\",\n",
    ")\n",
    "print(\"connecting to MariaDB...\")\n",
    "cur = con.cursor()\n",
    "st = \"CREATE DATABASE creditcard_capstone\"\n",
    "cur.execute(st)\n",
    "print(\"creditcard_capstone database created\")\n",
    "con.close()"
   ]
  },
  {
   "cell_type": "code",
   "execution_count": 5,
   "metadata": {},
   "outputs": [],
   "source": [
    "# df_branch.write.format(\"jdbc\") \\\n",
    "#   .mode(\"append\") \\\n",
    "#   .option(\"url\", \"jdbc:mysql://localhost:3306/creditcard_capstone\") \\\n",
    "#   .option(\"dbtable\", \"CDW_SAPP_BRANCH\") \\\n",
    "#   .option(\"user\", \"root\") \\\n",
    "#   .option(\"password\", \"password\") \\\n",
    "#   .save()\n",
    "\n",
    "df_credit.write.format(\"jdbc\") \\\n",
    "  .mode(\"append\") \\\n",
    "  .option(\"url\", \"jdbc:mysql://localhost:3306/creditcard_capstone\") \\\n",
    "  .option(\"dbtable\", \"CDW_SAPP_CREDIT_CARDwhat\") \\\n",
    "  .option(\"user\", \"root\") \\\n",
    "  .option(\"password\", \"password\") \\\n",
    "  .save()\n",
    "\n",
    "# df_customer.write.format(\"jdbc\") \\\n",
    "#   .mode(\"append\") \\\n",
    "#   .option(\"url\", \"jdbc:mysql://localhost:3306/creditcard_capstone\") \\\n",
    "#   .option(\"dbtable\", \"CDW_SAPP_CUSTOMER\") \\\n",
    "#   .option(\"user\", \"root\") \\\n",
    "#   .option(\"password\", \"password\") \\\n",
    "#   .save()"
   ]
  },
  {
   "attachments": {},
   "cell_type": "markdown",
   "metadata": {},
   "source": [
    "Soooo - why is MariaDB registering a different number of rows each time I import the credit file?\n",
    "\n",
    "JEREMIAH - copy/paste the following into a py file...console thing...or do what you learn next week (for part 2)"
   ]
  },
  {
   "attachments": {},
   "cell_type": "markdown",
   "metadata": {},
   "source": [
    "TRANSACTION DETAILS MODULE\n",
    "1)    Used to display the transactions made by customers living in a given zip code for a given month and year. Order by day in descending order.\n",
    "2)    Used to display the number and total values of transactions for a given type.\n",
    "3)    Used to display the number and total values of transactions for branches in a given state.\n",
    "\n",
    "CUSTOMER DETAILS MODULE\n",
    "\n",
    "1) Used to check the existing account details of a customer.\n",
    "2) Used to modify the existing account details of a customer.\n",
    "3) Used to generate a monthly bill for a credit card number for a given month and year.\n",
    "4) Used to display the transactions made by a customer between two dates. Order by year, month, and day in descending order.\n",
    "\n"
   ]
  },
  {
   "cell_type": "code",
   "execution_count": 59,
   "metadata": {},
   "outputs": [],
   "source": [
    "df_branch.createTempView(\"branch\")\n",
    "df_credit.createTempView(\"credit\")\n",
    "df_customer.createTempView(\"customer\")"
   ]
  },
  {
   "cell_type": "code",
   "execution_count": 9,
   "metadata": {},
   "outputs": [
    {
     "name": "stdout",
     "output_type": "stream",
     "text": [
      "+-----------------+-----------+------------+------------+------------+-----------------+----------+--------------------+\n",
      "|      BRANCH_CITY|BRANCH_CODE| BRANCH_NAME|BRANCH_PHONE|BRANCH_STATE|    BRANCH_STREET|BRANCH_ZIP|        LAST_UPDATED|\n",
      "+-----------------+-----------+------------+------------+------------+-----------------+----------+--------------------+\n",
      "|        Lakeville|          1|Example Bank|  1234565276|          MN|     Bridle Court|     55044|2018-04-18T16:51:...|\n",
      "|          Huntley|          2|Example Bank|  1234618993|          IL|Washington Street|     60142|2018-04-18T16:51:...|\n",
      "|SouthRichmondHill|          3|Example Bank|  1234985926|          NY|    Warren Street|     11419|2018-04-18T16:51:...|\n",
      "|       Middleburg|          4|Example Bank|  1234663064|          FL| Cleveland Street|     32068|2018-04-18T16:51:...|\n",
      "|    KingOfPrussia|          5|Example Bank|  1234849701|          PA|      14th Street|     19406|2018-04-18T16:51:...|\n",
      "|         Paterson|          7|Example Bank|  1234144890|          NJ| Jefferson Street|      7501|2018-04-18T16:51:...|\n",
      "|        Pittsford|          8|Example Bank|  1234678272|          NY|         B Street|     14534|2018-04-18T16:51:...|\n",
      "|     Wethersfield|          9|Example Bank|  1234675219|          CT|  Jefferson Court|      6109|2018-04-18T16:51:...|\n",
      "|     NorthOlmsted|         10|Example Bank|  1234145047|          OH|   Cambridge Road|     44070|2018-04-18T16:51:...|\n",
      "|     Hillsborough|         11|Example Bank|  1234366354|          NJ|  3rd Street West|      8844|2018-04-18T16:51:...|\n",
      "+-----------------+-----------+------------+------------+------------+-----------------+----------+--------------------+\n",
      "only showing top 10 rows\n",
      "\n"
     ]
    }
   ],
   "source": [
    "spark.sql(\"SELECT * from branch\").show(10)"
   ]
  },
  {
   "attachments": {},
   "cell_type": "markdown",
   "metadata": {},
   "source": [
    "Part 3. Data Analysis and Visualization\n",
    "\n",
    "Functional Requirements 3.1\n",
    "Find and plot which transaction type has a high rate of transactions.\n",
    "Note: Take a screenshot of the graphs. \n",
    "\n",
    "Functional Requirements 3.2\n",
    "Find and plot which state has a high number of customers.\n",
    "Note: Take a screenshot of the graphs. \n",
    "\n",
    "Functional Requirements 3.3\n",
    "Find and plot the sum of all transactions for each customer, and which customer has the highest transaction amount.\n",
    "hint(use CUST_SSN).\n",
    "Note: Take a screenshot of the graphs. "
   ]
  },
  {
   "cell_type": "code",
   "execution_count": 46,
   "metadata": {},
   "outputs": [],
   "source": [
    "import pandas as pd\n",
    "import numpy as np\n",
    "%matplotlib inline\n",
    "import matplotlib as plt\n",
    "from matplotlib import pyplot"
   ]
  },
  {
   "cell_type": "code",
   "execution_count": 58,
   "metadata": {},
   "outputs": [],
   "source": [
    "df_cred_pd = df_credit.toPandas()"
   ]
  },
  {
   "cell_type": "code",
   "execution_count": 32,
   "metadata": {},
   "outputs": [
    {
     "data": {
      "image/png": "[encoded data removed]",
      "text/plain": [
       "<Figure size 800x500 with 1 Axes>"
      ]
     },
     "metadata": {},
     "output_type": "display_data"
    }
   ],
   "source": [
    "df_cred_pd['TRANSACTION_TYPE'].value_counts().plot(kind='bar', figsize=(8, 5))\n",
    "#on a graph that starts at 0, it is hard to see much difference in counts on the y axis for these types, so \n",
    "#this graph has the limits placed on the y axis which will frame the values in a clearer way.\n",
    "pyplot.ylim(6500,6900)\n",
    "pyplot.title('Number of Transactions by Transaction Type')\n",
    "# add y-label\n",
    "pyplot.ylabel('Number of transactions')\n",
    "# add x-label\n",
    "pyplot.xlabel('Transaction type')\n",
    "\n",
    "pyplot.show()"
   ]
  },
  {
   "cell_type": "code",
   "execution_count": 36,
   "metadata": {},
   "outputs": [],
   "source": [
    "df_cust_pd = df_customer.toPandas()"
   ]
  },
  {
   "cell_type": "code",
   "execution_count": 40,
   "metadata": {},
   "outputs": [
    {
     "data": {
      "text/plain": [
       "NY    96\n",
       "GA    73\n",
       "PA    72\n",
       "FL    64\n",
       "IL    58\n",
       "NJ    53\n",
       "MD    50\n",
       "CA    45\n",
       "OH    44\n",
       "MI    44\n",
       "VA    39\n",
       "NC    37\n",
       "TX    33\n",
       "MA    33\n",
       "SC    30\n",
       "WI    29\n",
       "MN    28\n",
       "MS    24\n",
       "IA    21\n",
       "KY    17\n",
       "WA    16\n",
       "CT    14\n",
       "IN    13\n",
       "MT     9\n",
       "AR     5\n",
       "AL     5\n",
       "Name: CUST_STATE, dtype: int64"
      ]
     },
     "execution_count": 40,
     "metadata": {},
     "output_type": "execute_result"
    }
   ],
   "source": [
    "df_cust_pd['CUST_STATE'].value_counts()"
   ]
  },
  {
   "cell_type": "code",
   "execution_count": 41,
   "metadata": {},
   "outputs": [
    {
     "data": {
      "image/png": "[encoded data removed]",
      "text/plain": [
       "<Figure size 800x500 with 1 Axes>"
      ]
     },
     "metadata": {},
     "output_type": "display_data"
    }
   ],
   "source": [
    "df_cust_pd['CUST_STATE'].value_counts().plot(kind='bar', figsize=(8, 5))\n",
    "\n",
    "# add a title to the histogram\n",
    "pyplot.title('Customers by State')\n",
    "# add y-label\n",
    "pyplot.ylabel('Customers')\n",
    "# add x-label\n",
    "pyplot.xlabel('State')\n",
    "\n",
    "pyplot.show()"
   ]
  },
  {
   "attachments": {},
   "cell_type": "markdown",
   "metadata": {},
   "source": [
    "Try this with Spark SQL too, since it could mean either thing (group by SSN)...and/but also can try to figure out other stats models to use. "
   ]
  },
  {
   "cell_type": "code",
   "execution_count": 11,
   "metadata": {},
   "outputs": [
    {
     "name": "stdout",
     "output_type": "stream",
     "text": [
      "+----------+---------------+\n",
      "|CUST_STATE|TOTAL_CUSTOMERS|\n",
      "+----------+---------------+\n",
      "|        NY|             96|\n",
      "|        GA|             73|\n",
      "|        PA|             72|\n",
      "|        FL|             64|\n",
      "|        IL|             58|\n",
      "|        NJ|             53|\n",
      "|        MD|             50|\n",
      "|        CA|             45|\n",
      "|        MI|             44|\n",
      "|        OH|             44|\n",
      "|        VA|             39|\n",
      "|        NC|             37|\n",
      "|        TX|             33|\n",
      "|        MA|             33|\n",
      "|        SC|             30|\n",
      "|        WI|             29|\n",
      "|        MN|             28|\n",
      "|        MS|             24|\n",
      "|        IA|             21|\n",
      "|        KY|             17|\n",
      "+----------+---------------+\n",
      "only showing top 20 rows\n",
      "\n"
     ]
    }
   ],
   "source": [
    "spark.sql(\"SELECT CUST_STATE, COUNT(DISTINCT SSN) AS TOTAL_CUSTOMERS \\\n",
    "            FROM customer GROUP BY CUST_STATE ORDER BY TOTAL_CUSTOMERS DESC\").show() "
   ]
  },
  {
   "cell_type": "code",
   "execution_count": 32,
   "metadata": {},
   "outputs": [
    {
     "data": {
      "text/html": [
       "<div>\n",
       "<style scoped>\n",
       "    .dataframe tbody tr th:only-of-type {\n",
       "        vertical-align: middle;\n",
       "    }\n",
       "\n",
       "    .dataframe tbody tr th {\n",
       "        vertical-align: top;\n",
       "    }\n",
       "\n",
       "    .dataframe thead th {\n",
       "        text-align: right;\n",
       "    }\n",
       "</style>\n",
       "<table border=\"1\" class=\"dataframe\">\n",
       "  <thead>\n",
       "    <tr style=\"text-align: right;\">\n",
       "      <th></th>\n",
       "      <th>CUST_STATE</th>\n",
       "      <th>TOTAL_CUSTOMERS</th>\n",
       "    </tr>\n",
       "  </thead>\n",
       "  <tbody>\n",
       "    <tr>\n",
       "      <th>0</th>\n",
       "      <td>NY</td>\n",
       "      <td>96</td>\n",
       "    </tr>\n",
       "    <tr>\n",
       "      <th>1</th>\n",
       "      <td>GA</td>\n",
       "      <td>73</td>\n",
       "    </tr>\n",
       "    <tr>\n",
       "      <th>2</th>\n",
       "      <td>PA</td>\n",
       "      <td>72</td>\n",
       "    </tr>\n",
       "    <tr>\n",
       "      <th>3</th>\n",
       "      <td>FL</td>\n",
       "      <td>64</td>\n",
       "    </tr>\n",
       "    <tr>\n",
       "      <th>4</th>\n",
       "      <td>IL</td>\n",
       "      <td>58</td>\n",
       "    </tr>\n",
       "  </tbody>\n",
       "</table>\n",
       "</div>"
      ],
      "text/plain": [
       "  CUST_STATE  TOTAL_CUSTOMERS\n",
       "0         NY               96\n",
       "1         GA               73\n",
       "2         PA               72\n",
       "3         FL               64\n",
       "4         IL               58"
      ]
     },
     "execution_count": 32,
     "metadata": {},
     "output_type": "execute_result"
    }
   ],
   "source": [
    "df_cust_state = spark.sql(\"SELECT CUST_STATE, COUNT(DISTINCT SSN) AS TOTAL_CUSTOMERS \\\n",
    "            FROM customer GROUP BY CUST_STATE ORDER BY TOTAL_CUSTOMERS DESC\").toPandas()\n",
    "df_cust_state.head()"
   ]
  },
  {
   "cell_type": "code",
   "execution_count": 34,
   "metadata": {},
   "outputs": [
    {
     "data": {
      "image/png": "[encoded data removed]",
      "text/plain": [
       "<Figure size 800x500 with 1 Axes>"
      ]
     },
     "metadata": {},
     "output_type": "display_data"
    }
   ],
   "source": [
    "df_cust_state.head().plot(kind='bar', x = 'CUST_STATE', y = 'TOTAL_CUSTOMERS', figsize=(8, 5))\n",
    "\n",
    "# add a title to the histogram\n",
    "pyplot.title('Customers by State')\n",
    "# add y-label\n",
    "pyplot.ylabel('Customers')\n",
    "# add x-label\n",
    "pyplot.xlabel('State')\n",
    "pyplot.ylim(55,100)\n",
    "\n",
    "pyplot.show()"
   ]
  },
  {
   "attachments": {},
   "cell_type": "markdown",
   "metadata": {},
   "source": [
    "The next one should definitely use SQL.\n",
    "Functional Requirements 3.3\n",
    "Find and plot the sum of all transactions for each customer, and which customer has the highest transaction amount.\n",
    "hint(use CUST_SSN).\n",
    "Note: Take a screenshot of the graphs. \n",
    "\n",
    "---this also has a double meaning, so may as well do both meanings.\n",
    "\n",
    "SELECT sum('TRANSACTION_VALUE') as Total_Transactions\n",
    "from credit JOIN customer.SSN ON credit.CUST_SSN \n",
    "GROUPBY CUST_SSN\n",
    "ORDER BY Total_Transactions DESC\n",
    "\n",
    "SELECT count('TRANSACTION_VALUE') as Count_Transactions\n",
    "from credit JOIN customer.SSN ON credit.CUST_SSN \n",
    "GROUP BY CUST_SSN\n",
    "ORDER BY Count_Transactions DESC"
   ]
  },
  {
   "cell_type": "code",
   "execution_count": 12,
   "metadata": {},
   "outputs": [],
   "source": [
    "df_cust_val = spark.sql(\"SELECT CUST_SSN, SUM(TRANSACTION_VALUE) AS TOTAL_VALUE \\\n",
    "            FROM credit GROUP BY CUST_SSN ORDER BY TOTAL_VALUE DESC\") "
   ]
  },
  {
   "cell_type": "code",
   "execution_count": 18,
   "metadata": {},
   "outputs": [],
   "source": [
    "df_cust_val = df_cust_val.toPandas()"
   ]
  },
  {
   "cell_type": "code",
   "execution_count": 19,
   "metadata": {},
   "outputs": [
    {
     "data": {
      "text/html": [
       "<div>\n",
       "<style scoped>\n",
       "    .dataframe tbody tr th:only-of-type {\n",
       "        vertical-align: middle;\n",
       "    }\n",
       "\n",
       "    .dataframe tbody tr th {\n",
       "        vertical-align: top;\n",
       "    }\n",
       "\n",
       "    .dataframe thead th {\n",
       "        text-align: right;\n",
       "    }\n",
       "</style>\n",
       "<table border=\"1\" class=\"dataframe\">\n",
       "  <thead>\n",
       "    <tr style=\"text-align: right;\">\n",
       "      <th></th>\n",
       "      <th>CUST_SSN</th>\n",
       "      <th>TOTAL_VALUE</th>\n",
       "    </tr>\n",
       "  </thead>\n",
       "  <tbody>\n",
       "    <tr>\n",
       "      <th>0</th>\n",
       "      <td>123451125</td>\n",
       "      <td>5633.07</td>\n",
       "    </tr>\n",
       "    <tr>\n",
       "      <th>1</th>\n",
       "      <td>123452783</td>\n",
       "      <td>5548.14</td>\n",
       "    </tr>\n",
       "    <tr>\n",
       "      <th>2</th>\n",
       "      <td>123453486</td>\n",
       "      <td>5476.08</td>\n",
       "    </tr>\n",
       "    <tr>\n",
       "      <th>3</th>\n",
       "      <td>123458668</td>\n",
       "      <td>5314.97</td>\n",
       "    </tr>\n",
       "    <tr>\n",
       "      <th>4</th>\n",
       "      <td>123456678</td>\n",
       "      <td>5261.03</td>\n",
       "    </tr>\n",
       "    <tr>\n",
       "      <th>...</th>\n",
       "      <td>...</td>\n",
       "      <td>...</td>\n",
       "    </tr>\n",
       "    <tr>\n",
       "      <th>947</th>\n",
       "      <td>123455652</td>\n",
       "      <td>73.59</td>\n",
       "    </tr>\n",
       "    <tr>\n",
       "      <th>948</th>\n",
       "      <td>123453375</td>\n",
       "      <td>73.08</td>\n",
       "    </tr>\n",
       "    <tr>\n",
       "      <th>949</th>\n",
       "      <td>123459201</td>\n",
       "      <td>61.67</td>\n",
       "    </tr>\n",
       "    <tr>\n",
       "      <th>950</th>\n",
       "      <td>123452345</td>\n",
       "      <td>10.41</td>\n",
       "    </tr>\n",
       "    <tr>\n",
       "      <th>951</th>\n",
       "      <td>123451837</td>\n",
       "      <td>2.15</td>\n",
       "    </tr>\n",
       "  </tbody>\n",
       "</table>\n",
       "<p>952 rows × 2 columns</p>\n",
       "</div>"
      ],
      "text/plain": [
       "      CUST_SSN  TOTAL_VALUE\n",
       "0    123451125      5633.07\n",
       "1    123452783      5548.14\n",
       "2    123453486      5476.08\n",
       "3    123458668      5314.97\n",
       "4    123456678      5261.03\n",
       "..         ...          ...\n",
       "947  123455652        73.59\n",
       "948  123453375        73.08\n",
       "949  123459201        61.67\n",
       "950  123452345        10.41\n",
       "951  123451837         2.15\n",
       "\n",
       "[952 rows x 2 columns]"
      ]
     },
     "execution_count": 19,
     "metadata": {},
     "output_type": "execute_result"
    }
   ],
   "source": [
    "df_cust_val"
   ]
  },
  {
   "cell_type": "code",
   "execution_count": 30,
   "metadata": {},
   "outputs": [
    {
     "data": {
      "image/png": "[encoded data removed]",
      "text/plain": [
       "<Figure size 800x500 with 1 Axes>"
      ]
     },
     "metadata": {},
     "output_type": "display_data"
    }
   ],
   "source": [
    "#df_cust_val.reset_index(inplace=True)\n",
    "df_cust_val.head().plot(kind='bar', x='CUST_SSN', y='TOTAL_VALUE',  figsize=(8, 5))\n",
    "\n",
    "# add a title to the histogram\n",
    "pyplot.title('Total Value of Transactions per Customer')\n",
    "# add y-label\n",
    "pyplot.ylabel('Total Value of Transactions')\n",
    "# add x-label\n",
    "pyplot.xlabel('Customer')\n",
    "pyplot.ylim(5200,5650)\n",
    "\n",
    "pyplot.show()"
   ]
  },
  {
   "cell_type": "code",
   "execution_count": 6,
   "metadata": {},
   "outputs": [
    {
     "name": "stdout",
     "output_type": "stream",
     "text": [
      "+---------+------------------+\n",
      "| CUST_SSN|TOTAL_TRANSACTIONS|\n",
      "+---------+------------------+\n",
      "|123453831|                99|\n",
      "|123456678|                99|\n",
      "|123451701|                99|\n",
      "|123457070|                99|\n",
      "|123458668|                99|\n",
      "|123451357|                99|\n",
      "|123456557|                98|\n",
      "|123456849|                98|\n",
      "|123458993|                98|\n",
      "|123458645|                98|\n",
      "|123452890|                98|\n",
      "|123459441|                98|\n",
      "|123455898|                98|\n",
      "|123452026|                98|\n",
      "|123451173|                98|\n",
      "|123456862|                98|\n",
      "|123458265|                98|\n",
      "|123452783|                97|\n",
      "|123457278|                97|\n",
      "|123459723|                97|\n",
      "+---------+------------------+\n",
      "only showing top 20 rows\n",
      "\n"
     ]
    }
   ],
   "source": [
    "spark.sql(\"SELECT CUST_SSN, COUNT(*) AS TOTAL_TRANSACTIONS \\\n",
    "            FROM credit GROUP BY CUST_SSN ORDER BY TOTAL_TRANSACTIONS DESC\").show() "
   ]
  },
  {
   "attachments": {},
   "cell_type": "markdown",
   "metadata": {},
   "source": [
    "PART 4"
   ]
  },
  {
   "cell_type": "code",
   "execution_count": 24,
   "metadata": {},
   "outputs": [],
   "source": [
    "import mysql.connector as mariadb\n",
    "import pyspark\n",
    "from pyspark.sql import SparkSession\n",
    "\n",
    "spark = SparkSession.builder.appName('Cap4.com').getOrCreate()\n",
    "import requests\n",
    "import json"
   ]
  },
  {
   "cell_type": "code",
   "execution_count": 25,
   "metadata": {},
   "outputs": [],
   "source": [
    "url = 'https://raw.githubusercontent.com/platformps/LoanDataset/main/loan_data.json'\n",
    "response = requests.get(url)"
   ]
  },
  {
   "cell_type": "code",
   "execution_count": 3,
   "metadata": {},
   "outputs": [
    {
     "data": {
      "text/plain": [
       "<Response [200]>"
      ]
     },
     "execution_count": 3,
     "metadata": {},
     "output_type": "execute_result"
    }
   ],
   "source": [
    "response"
   ]
  },
  {
   "cell_type": "code",
   "execution_count": 26,
   "metadata": {},
   "outputs": [],
   "source": [
    "cdw_sapp_loan4 = response.json()"
   ]
  },
  {
   "cell_type": "code",
   "execution_count": 35,
   "metadata": {},
   "outputs": [],
   "source": [
    "df_loan = spark.createDataFrame(cdw_sapp_loan4)\n",
    "df_loan_quantum = spark.createDataFrame(cdw_sapp_loan4)"
   ]
  },
  {
   "cell_type": "code",
   "execution_count": 31,
   "metadata": {},
   "outputs": [],
   "source": [
    "with open('cdw_sapp_loan4.json', 'w') as out_file:\n",
    "     json.dump(cdw_sapp_loan4, out_file) \n"
   ]
  },
  {
   "cell_type": "code",
   "execution_count": 32,
   "metadata": {},
   "outputs": [],
   "source": [
    "df_loan_q2 = spark.read.json(\"cdw_sapp_loan4.json\")"
   ]
  },
  {
   "cell_type": "code",
   "execution_count": 3,
   "metadata": {},
   "outputs": [
    {
     "name": "stdout",
     "output_type": "stream",
     "text": [
      "+--------------+------------------+--------------+----------+------------+------+------+-------+-------------+-------------+\n",
      "|Application_ID|Application_Status|Credit_History|Dependents|   Education|Gender|Income|Married|Property_Area|Self_Employed|\n",
      "+--------------+------------------+--------------+----------+------------+------+------+-------+-------------+-------------+\n",
      "|      LP001002|                 Y|             1|         0|    Graduate|  Male|medium|     No|        Urban|           No|\n",
      "|      LP001003|                 N|             1|         1|    Graduate|  Male|medium|    Yes|        Rural|           No|\n",
      "|      LP001005|                 Y|             1|         0|    Graduate|  Male|   low|    Yes|        Urban|          Yes|\n",
      "|      LP001006|                 Y|             1|         0|Not Graduate|  Male|   low|    Yes|        Urban|           No|\n",
      "|      LP001008|                 Y|             1|         0|    Graduate|  Male|medium|     No|        Urban|           No|\n",
      "|      LP001011|                 Y|             1|         2|    Graduate|  Male|medium|    Yes|        Urban|          Yes|\n",
      "|      LP001013|                 Y|             1|         0|Not Graduate|  Male|   low|    Yes|        Urban|           No|\n",
      "|      LP001014|                 N|             0|        3+|    Graduate|  Male|   low|    Yes|    Semiurban|           No|\n",
      "|      LP001018|                 Y|             1|         2|    Graduate|  Male|medium|    Yes|        Urban|           No|\n",
      "|      LP001020|                 N|             1|         1|    Graduate|  Male|  high|    Yes|    Semiurban|           No|\n",
      "|      LP001024|                 Y|             1|         2|    Graduate|  Male|   low|    Yes|        Urban|           No|\n",
      "|      LP001028|                 Y|             1|         2|    Graduate|  Male|   low|    Yes|        Urban|           No|\n",
      "|      LP001029|                 N|             1|         0|    Graduate|  Male|   low|     No|        Rural|           No|\n",
      "|      LP001030|                 Y|             1|         2|    Graduate|  Male|   low|    Yes|        Urban|           No|\n",
      "|      LP001032|                 Y|             1|         0|    Graduate|  Male|medium|     No|        Urban|           No|\n",
      "|      LP001036|                 N|             0|         0|    Graduate|Female|   low|     No|        Urban|           No|\n",
      "|      LP001038|                 N|             1|         0|Not Graduate|  Male|medium|    Yes|        Rural|           No|\n",
      "|      LP001043|                 N|             0|         0|Not Graduate|  Male|medium|    Yes|        Urban|           No|\n",
      "|      LP001046|                 Y|             1|         1|    Graduate|  Male|medium|    Yes|        Urban|           No|\n",
      "|      LP001047|                 N|             0|         0|Not Graduate|  Male|   low|    Yes|    Semiurban|           No|\n",
      "+--------------+------------------+--------------+----------+------------+------+------+-------+-------------+-------------+\n",
      "only showing top 20 rows\n",
      "\n"
     ]
    }
   ],
   "source": [
    "df_loan.show()"
   ]
  },
  {
   "cell_type": "code",
   "execution_count": 5,
   "metadata": {},
   "outputs": [
    {
     "name": "stdout",
     "output_type": "stream",
     "text": [
      "root\n",
      " |-- Application_ID: string (nullable = true)\n",
      " |-- Application_Status: string (nullable = true)\n",
      " |-- Credit_History: long (nullable = true)\n",
      " |-- Dependents: string (nullable = true)\n",
      " |-- Education: string (nullable = true)\n",
      " |-- Gender: string (nullable = true)\n",
      " |-- Income: string (nullable = true)\n",
      " |-- Married: string (nullable = true)\n",
      " |-- Property_Area: string (nullable = true)\n",
      " |-- Self_Employed: string (nullable = true)\n",
      "\n"
     ]
    }
   ],
   "source": [
    "df_loan.printSchema()"
   ]
  },
  {
   "cell_type": "code",
   "execution_count": null,
   "metadata": {},
   "outputs": [],
   "source": [
    "df_loan_q2.write.format(\"jdbc\") \\\n",
    "  .mode(\"append\") \\\n",
    "  .option(\"url\", \"jdbc:mysql://localhost:3306/creditcard_capstone\") \\\n",
    "  .option(\"dbtable\", \"CDW_SAPP_loan_application_q3\") \\\n",
    "  .option(\"user\", \"root\") \\\n",
    "  .option(\"password\", \"password\") \\\n",
    "  .save()"
   ]
  },
  {
   "attachments": {},
   "cell_type": "markdown",
   "metadata": {},
   "source": [
    "Req-5\n",
    "Data Analysis and Visualization\n",
    "\n",
    "Functional Requirements 5.1\n",
    "Find and plot the percentage of applications approved for self-employed applicants.\n",
    "Note: Take a screenshot of the graph.\n",
    "AMONG SELF-EMPLYED APPLICATIONS, THE PERCENTAGE OF APPLICATIONS APPROVED?\n",
    "df.where(df.Education == 'Self-Employed')\n",
    "\n",
    "Functional Requirements 5.2\n",
    "Find the percentage of rejection for married male applicants.\n",
    "Note: Take a screenshot of the graph.\n",
    "AMONG MARRIED MALES, WHAT IS THE PERCENTAGE OF REJECTION?\n",
    "\n",
    "Functional Requirements 5.3\n",
    "Find and plot the top three months with the largest transaction data.\n",
    "Note: Take a screenshot of the graph. \n",
    "LARGEST NUMBER? OR LARGEST TOTAL VALUE? BOTH?\n",
    "\n",
    "Functional Requirements 5.4\n",
    "Find and plot which branch processed the highest total dollar value of healthcare transactions.\n",
    "Note: Take a screenshot of the graph. \n",
    "\n"
   ]
  },
  {
   "cell_type": "code",
   "execution_count": 6,
   "metadata": {},
   "outputs": [
    {
     "name": "stdout",
     "output_type": "stream",
     "text": [
      "+--------------+------------------+--------------+----------+------------+------+------+-------+-------------+-------------+\n",
      "|Application_ID|Application_Status|Credit_History|Dependents|   Education|Gender|Income|Married|Property_Area|Self_Employed|\n",
      "+--------------+------------------+--------------+----------+------------+------+------+-------+-------------+-------------+\n",
      "|      LP001005|                 Y|             1|         0|    Graduate|  Male|   low|    Yes|        Urban|          Yes|\n",
      "|      LP001011|                 Y|             1|         2|    Graduate|  Male|medium|    Yes|        Urban|          Yes|\n",
      "|      LP001066|                 Y|             1|         0|    Graduate|  Male|medium|    Yes|    Semiurban|          Yes|\n",
      "|      LP001097|                 N|             1|         1|    Graduate|  Male|medium|     No|        Rural|          Yes|\n",
      "|      LP001136|                 Y|             1|         0|Not Graduate|  Male|medium|    Yes|        Urban|          Yes|\n",
      "|      LP001186|                 N|             0|         1|    Graduate|Female|  high|    Yes|        Urban|          Yes|\n",
      "|      LP001207|                 N|             0|         0|Not Graduate|  Male|   low|    Yes|        Rural|          Yes|\n",
      "|      LP001238|                 Y|             1|        3+|Not Graduate|  Male|medium|    Yes|        Urban|          Yes|\n",
      "|      LP001245|                 Y|             1|         2|Not Graduate|  Male|   low|    Yes|    Semiurban|          Yes|\n",
      "|      LP001253|                 Y|             1|        3+|    Graduate|  Male|medium|    Yes|    Semiurban|          Yes|\n",
      "|      LP001259|                 N|             1|         1|    Graduate|  Male|   low|    Yes|        Urban|          Yes|\n",
      "|      LP001266|                 Y|             1|         1|    Graduate|  Male|   low|    Yes|    Semiurban|          Yes|\n",
      "|      LP001392|                 Y|             1|         1|    Graduate|Female|medium|     No|    Semiurban|          Yes|\n",
      "|      LP001451|                 N|             0|         1|    Graduate|  Male|  high|    Yes|        Urban|          Yes|\n",
      "|      LP001482|                 Y|             1|         0|    Graduate|  Male|   low|    Yes|    Semiurban|          Yes|\n",
      "|      LP001491|                 Y|             1|         2|    Graduate|  Male|   low|    Yes|        Urban|          Yes|\n",
      "|      LP001504|                 Y|             1|         0|    Graduate|  Male|medium|     No|    Semiurban|          Yes|\n",
      "|      LP001529|                 Y|             1|         0|    Graduate|  Male|   low|    Yes|        Rural|          Yes|\n",
      "|      LP001603|                 N|             1|         0|Not Graduate|  Male|medium|    Yes|    Semiurban|          Yes|\n",
      "|      LP001640|                 Y|             1|         0|    Graduate|  Male|  high|    Yes|    Semiurban|          Yes|\n",
      "+--------------+------------------+--------------+----------+------------+------+------+-------+-------------+-------------+\n",
      "only showing top 20 rows\n",
      "\n"
     ]
    }
   ],
   "source": [
    "df_loan_se = df_loan.where(df_loan.Self_Employed == 'Yes')\n",
    "df_loan_se.show()"
   ]
  },
  {
   "cell_type": "code",
   "execution_count": 9,
   "metadata": {},
   "outputs": [],
   "source": [
    "df_loan_se.createOrReplaceTempView('self_employed')\n"
   ]
  },
  {
   "cell_type": "code",
   "execution_count": 37,
   "metadata": {},
   "outputs": [
    {
     "name": "stdout",
     "output_type": "stream",
     "text": [
      "+--------+\n",
      "|count(1)|\n",
      "+--------+\n",
      "|      70|\n",
      "+--------+\n",
      "\n"
     ]
    }
   ],
   "source": [
    "spark.sql(\"select count(*) from self_employed\").show()"
   ]
  },
  {
   "cell_type": "code",
   "execution_count": 38,
   "metadata": {},
   "outputs": [
    {
     "name": "stdout",
     "output_type": "stream",
     "text": [
      "+--------+\n",
      "|count(1)|\n",
      "+--------+\n",
      "|      46|\n",
      "+--------+\n",
      "\n"
     ]
    }
   ],
   "source": [
    "spark.sql(\"select count(*) from self_employed WHERE Application_Status == 'Y'\").show()"
   ]
  },
  {
   "cell_type": "code",
   "execution_count": 40,
   "metadata": {},
   "outputs": [
    {
     "name": "stdout",
     "output_type": "stream",
     "text": [
      "The percentage of applications approved for self-employed applicants is 65.71%.\n"
     ]
    }
   ],
   "source": [
    "percent = round((46/70)*100,2)\n",
    "print(f\"The percentage of applications approved for self-employed applicants is {percent}%.\")"
   ]
  },
  {
   "attachments": {},
   "cell_type": "markdown",
   "metadata": {},
   "source": [
    "NOW PLOT THE PERCENT FOR SELF-EMPLOYED"
   ]
  },
  {
   "cell_type": "code",
   "execution_count": 43,
   "metadata": {},
   "outputs": [],
   "source": [
    "df_loan_sepd = df_loan_se.toPandas()"
   ]
  },
  {
   "cell_type": "code",
   "execution_count": 48,
   "metadata": {},
   "outputs": [
    {
     "data": {
      "image/png": "[encoded data removed]",
      "text/plain": [
       "<Figure size 800x500 with 1 Axes>"
      ]
     },
     "metadata": {},
     "output_type": "display_data"
    }
   ],
   "source": [
    "#df_cust_val.reset_index(inplace=True)\n",
    "df_loan_sepd['Application_Status'].value_counts().plot(kind='pie', x='CUST_SSN', y='TOTAL_VALUE',  figsize=(8, 5))\n",
    "\n",
    "# add a title to the histogram\n",
    "pyplot.title('Percent of Approved Applications among Self-Employed')\n",
    "# add y-label\n",
    "\n",
    "\n",
    "pyplot.show()"
   ]
  },
  {
   "attachments": {},
   "cell_type": "markdown",
   "metadata": {},
   "source": [
    "Functional Requirements 5.2\n",
    "Find the percentage of rejection for married male applicants.\n",
    "Note: Take a screenshot of the graph."
   ]
  },
  {
   "cell_type": "code",
   "execution_count": 50,
   "metadata": {},
   "outputs": [
    {
     "name": "stdout",
     "output_type": "stream",
     "text": [
      "+--------------+------------------+--------------+----------+------------+------+------+-------+-------------+-------------+\n",
      "|Application_ID|Application_Status|Credit_History|Dependents|   Education|Gender|Income|Married|Property_Area|Self_Employed|\n",
      "+--------------+------------------+--------------+----------+------------+------+------+-------+-------------+-------------+\n",
      "|      LP001003|                 N|             1|         1|    Graduate|  Male|medium|    Yes|        Rural|           No|\n",
      "|      LP001005|                 Y|             1|         0|    Graduate|  Male|   low|    Yes|        Urban|          Yes|\n",
      "|      LP001006|                 Y|             1|         0|Not Graduate|  Male|   low|    Yes|        Urban|           No|\n",
      "|      LP001011|                 Y|             1|         2|    Graduate|  Male|medium|    Yes|        Urban|          Yes|\n",
      "|      LP001013|                 Y|             1|         0|Not Graduate|  Male|   low|    Yes|        Urban|           No|\n",
      "|      LP001014|                 N|             0|        3+|    Graduate|  Male|   low|    Yes|    Semiurban|           No|\n",
      "|      LP001018|                 Y|             1|         2|    Graduate|  Male|medium|    Yes|        Urban|           No|\n",
      "|      LP001020|                 N|             1|         1|    Graduate|  Male|  high|    Yes|    Semiurban|           No|\n",
      "|      LP001024|                 Y|             1|         2|    Graduate|  Male|   low|    Yes|        Urban|           No|\n",
      "|      LP001028|                 Y|             1|         2|    Graduate|  Male|   low|    Yes|        Urban|           No|\n",
      "|      LP001030|                 Y|             1|         2|    Graduate|  Male|   low|    Yes|        Urban|           No|\n",
      "|      LP001038|                 N|             1|         0|Not Graduate|  Male|medium|    Yes|        Rural|           No|\n",
      "|      LP001043|                 N|             0|         0|Not Graduate|  Male|medium|    Yes|        Urban|           No|\n",
      "|      LP001046|                 Y|             1|         1|    Graduate|  Male|medium|    Yes|        Urban|           No|\n",
      "|      LP001047|                 N|             0|         0|Not Graduate|  Male|   low|    Yes|    Semiurban|           No|\n",
      "|      LP001066|                 Y|             1|         0|    Graduate|  Male|medium|    Yes|    Semiurban|          Yes|\n",
      "|      LP001068|                 Y|             1|         0|    Graduate|  Male|   low|    Yes|    Semiurban|           No|\n",
      "|      LP001073|                 Y|             1|         2|Not Graduate|  Male|medium|    Yes|        Urban|           No|\n",
      "|      LP001098|                 Y|             1|         0|    Graduate|  Male|   low|    Yes|    Semiurban|           No|\n",
      "|      LP001106|                 Y|             1|         0|    Graduate|  Male|   low|    Yes|        Urban|           No|\n",
      "+--------------+------------------+--------------+----------+------------+------+------+-------+-------------+-------------+\n",
      "only showing top 20 rows\n",
      "\n"
     ]
    }
   ],
   "source": [
    "df_loan_m = df_loan.where(df_loan.Married == 'Yes')\n",
    "df_loan_mm = df_loan_m.where(df_loan_m.Gender == 'Male')\n",
    "df_loan_mm.show()"
   ]
  },
  {
   "cell_type": "code",
   "execution_count": 51,
   "metadata": {},
   "outputs": [
    {
     "name": "stdout",
     "output_type": "stream",
     "text": [
      "+--------+\n",
      "|count(1)|\n",
      "+--------+\n",
      "|     306|\n",
      "+--------+\n",
      "\n"
     ]
    }
   ],
   "source": [
    "df_loan_mm.createOrReplaceTempView('married_men')\n",
    "spark.sql(\"select count(*) from married_men\").show()"
   ]
  },
  {
   "cell_type": "code",
   "execution_count": 82,
   "metadata": {},
   "outputs": [
    {
     "name": "stdout",
     "output_type": "stream",
     "text": [
      "+--------+\n",
      "|count(1)|\n",
      "+--------+\n",
      "|      87|\n",
      "+--------+\n",
      "\n"
     ]
    }
   ],
   "source": [
    "spark.sql(\"select count(*) from married_men WHERE Application_Status == 'N'\").show()"
   ]
  },
  {
   "cell_type": "code",
   "execution_count": 83,
   "metadata": {},
   "outputs": [
    {
     "name": "stdout",
     "output_type": "stream",
     "text": [
      "The percentage of applications rejected for married male applicants is 28.43%.\n"
     ]
    }
   ],
   "source": [
    "percent = round((87/306)*100,2)\n",
    "print(f\"The percentage of applications rejected for married male applicants is {percent}%.\")"
   ]
  },
  {
   "cell_type": "code",
   "execution_count": 84,
   "metadata": {},
   "outputs": [
    {
     "data": {
      "image/png": "[encoded data removed]",
      "text/plain": [
       "<Figure size 800x500 with 1 Axes>"
      ]
     },
     "metadata": {},
     "output_type": "display_data"
    }
   ],
   "source": [
    "df_loan_mmpd = df_loan_mm.toPandas()\n",
    "df_loan_mmpd['Application_Status'].value_counts().plot(kind='pie', figsize=(8, 5))\n",
    "\n",
    "# add a title to the histogram\n",
    "pyplot.title('Percent of Rejected Applications among Married Men')\n",
    "# add y-label\n",
    "\n",
    "\n",
    "pyplot.show()"
   ]
  },
  {
   "attachments": {},
   "cell_type": "markdown",
   "metadata": {},
   "source": [
    "Functional Requirements 5.3\n",
    "Find and plot the top three months with the largest transaction data.\n",
    "Note: Take a screenshot of the graph. \n",
    "LARGEST NUMBER? OR LARGEST TOTAL VALUE? BOTH?"
   ]
  },
  {
   "cell_type": "code",
   "execution_count": 88,
   "metadata": {},
   "outputs": [
    {
     "data": {
      "text/html": [
       "<div>\n",
       "<style scoped>\n",
       "    .dataframe tbody tr th:only-of-type {\n",
       "        vertical-align: middle;\n",
       "    }\n",
       "\n",
       "    .dataframe tbody tr th {\n",
       "        vertical-align: top;\n",
       "    }\n",
       "\n",
       "    .dataframe thead th {\n",
       "        text-align: right;\n",
       "    }\n",
       "</style>\n",
       "<table border=\"1\" class=\"dataframe\">\n",
       "  <thead>\n",
       "    <tr style=\"text-align: right;\">\n",
       "      <th></th>\n",
       "      <th>MONTH</th>\n",
       "      <th>TRANSACTIONS</th>\n",
       "    </tr>\n",
       "  </thead>\n",
       "  <tbody>\n",
       "    <tr>\n",
       "      <th>0</th>\n",
       "      <td>2</td>\n",
       "      <td>3959</td>\n",
       "    </tr>\n",
       "    <tr>\n",
       "      <th>1</th>\n",
       "      <td>5</td>\n",
       "      <td>3946</td>\n",
       "    </tr>\n",
       "    <tr>\n",
       "      <th>2</th>\n",
       "      <td>10</td>\n",
       "      <td>3946</td>\n",
       "    </tr>\n",
       "  </tbody>\n",
       "</table>\n",
       "</div>"
      ],
      "text/plain": [
       "   MONTH  TRANSACTIONS\n",
       "0      2          3959\n",
       "1      5          3946\n",
       "2     10          3946"
      ]
     },
     "execution_count": 88,
     "metadata": {},
     "output_type": "execute_result"
    }
   ],
   "source": [
    "df_month_num = spark.sql(\"SELECT MONTH, COUNT(TRANSACTION_ID) AS TRANSACTIONS FROM credit \\\n",
    "            GROUP BY MONTH ORDER BY TRANSACTIONS DESC LIMIT 3\").toPandas()\n",
    "df_month_num.head()"
   ]
  },
  {
   "cell_type": "code",
   "execution_count": 89,
   "metadata": {},
   "outputs": [
    {
     "data": {
      "image/png": "[encoded data removed]",
      "text/plain": [
       "<Figure size 800x500 with 1 Axes>"
      ]
     },
     "metadata": {},
     "output_type": "display_data"
    }
   ],
   "source": [
    "\n",
    "#df_month.set_index(['MONTH'])\n",
    "df_month_num.plot(kind = \"bar\", x = 'MONTH', y = 'TRANSACTIONS', figsize = (8,5))\n",
    "pyplot.ylim(3920,3970)\n",
    "pyplot.xlabel('Month')\n",
    "pyplot.show()"
   ]
  },
  {
   "cell_type": "code",
   "execution_count": 71,
   "metadata": {},
   "outputs": [],
   "source": [
    "df_month = spark.sql(\"SELECT MONTH, SUM(TRANSACTION_VALUE) AS TRANSACTION_SUM FROM credit \\\n",
    "            GROUP BY MONTH ORDER BY TRANSACTION_SUM DESC LIMIT 3\").toPandas()"
   ]
  },
  {
   "cell_type": "code",
   "execution_count": 72,
   "metadata": {},
   "outputs": [
    {
     "data": {
      "text/html": [
       "<div>\n",
       "<style scoped>\n",
       "    .dataframe tbody tr th:only-of-type {\n",
       "        vertical-align: middle;\n",
       "    }\n",
       "\n",
       "    .dataframe tbody tr th {\n",
       "        vertical-align: top;\n",
       "    }\n",
       "\n",
       "    .dataframe thead th {\n",
       "        text-align: right;\n",
       "    }\n",
       "</style>\n",
       "<table border=\"1\" class=\"dataframe\">\n",
       "  <thead>\n",
       "    <tr style=\"text-align: right;\">\n",
       "      <th></th>\n",
       "      <th>MONTH</th>\n",
       "      <th>TRANSACTION_SUM</th>\n",
       "    </tr>\n",
       "  </thead>\n",
       "  <tbody>\n",
       "    <tr>\n",
       "      <th>0</th>\n",
       "      <td>10</td>\n",
       "      <td>202583.89</td>\n",
       "    </tr>\n",
       "    <tr>\n",
       "      <th>1</th>\n",
       "      <td>5</td>\n",
       "      <td>201310.26</td>\n",
       "    </tr>\n",
       "    <tr>\n",
       "      <th>2</th>\n",
       "      <td>12</td>\n",
       "      <td>201251.08</td>\n",
       "    </tr>\n",
       "  </tbody>\n",
       "</table>\n",
       "</div>"
      ],
      "text/plain": [
       "   MONTH  TRANSACTION_SUM\n",
       "0     10        202583.89\n",
       "1      5        201310.26\n",
       "2     12        201251.08"
      ]
     },
     "execution_count": 72,
     "metadata": {},
     "output_type": "execute_result"
    }
   ],
   "source": [
    "df_month.head()"
   ]
  },
  {
   "cell_type": "code",
   "execution_count": 81,
   "metadata": {},
   "outputs": [
    {
     "data": {
      "image/png": "[encoded data removed]",
      "text/plain": [
       "<Figure size 800x500 with 1 Axes>"
      ]
     },
     "metadata": {},
     "output_type": "display_data"
    }
   ],
   "source": [
    "\n",
    "#df_month.set_index(['MONTH'])\n",
    "df_month.plot(kind = \"bar\", x = 'MONTH', y = 'TRANSACTION_SUM', figsize = (8,5))\n",
    "pyplot.ylim(200000,202700)\n",
    "pyplot.xlabel('Month')\n",
    "pyplot.show()"
   ]
  },
  {
   "attachments": {},
   "cell_type": "markdown",
   "metadata": {},
   "source": [
    "Functional Requirements 5.4\n",
    "Find and plot which branch processed the highest total dollar value of healthcare transactions.\n",
    "Note: Take a screenshot of the graph. "
   ]
  },
  {
   "cell_type": "code",
   "execution_count": 91,
   "metadata": {},
   "outputs": [
    {
     "data": {
      "text/html": [
       "<div>\n",
       "<style scoped>\n",
       "    .dataframe tbody tr th:only-of-type {\n",
       "        vertical-align: middle;\n",
       "    }\n",
       "\n",
       "    .dataframe tbody tr th {\n",
       "        vertical-align: top;\n",
       "    }\n",
       "\n",
       "    .dataframe thead th {\n",
       "        text-align: right;\n",
       "    }\n",
       "</style>\n",
       "<table border=\"1\" class=\"dataframe\">\n",
       "  <thead>\n",
       "    <tr style=\"text-align: right;\">\n",
       "      <th></th>\n",
       "      <th>BRANCH_CODE</th>\n",
       "      <th>TRANSACTION_SUM</th>\n",
       "    </tr>\n",
       "  </thead>\n",
       "  <tbody>\n",
       "    <tr>\n",
       "      <th>0</th>\n",
       "      <td>70</td>\n",
       "      <td>23792.89</td>\n",
       "    </tr>\n",
       "    <tr>\n",
       "      <th>1</th>\n",
       "      <td>79</td>\n",
       "      <td>23641.99</td>\n",
       "    </tr>\n",
       "    <tr>\n",
       "      <th>2</th>\n",
       "      <td>46</td>\n",
       "      <td>23507.66</td>\n",
       "    </tr>\n",
       "    <tr>\n",
       "      <th>3</th>\n",
       "      <td>45</td>\n",
       "      <td>23350.68</td>\n",
       "    </tr>\n",
       "    <tr>\n",
       "      <th>4</th>\n",
       "      <td>37</td>\n",
       "      <td>22991.33</td>\n",
       "    </tr>\n",
       "  </tbody>\n",
       "</table>\n",
       "</div>"
      ],
      "text/plain": [
       "   BRANCH_CODE  TRANSACTION_SUM\n",
       "0           70         23792.89\n",
       "1           79         23641.99\n",
       "2           46         23507.66\n",
       "3           45         23350.68\n",
       "4           37         22991.33"
      ]
     },
     "execution_count": 91,
     "metadata": {},
     "output_type": "execute_result"
    }
   ],
   "source": [
    "df_healthc = spark.sql(\"SELECT BRANCH_CODE, SUM(TRANSACTION_VALUE) AS TRANSACTION_SUM \\\n",
    "                FROM credit GROUP BY BRANCH_CODE ORDER BY TRANSACTION_SUM DESC LIMIT 5\").toPandas()\n",
    "df_healthc.head()\n"
   ]
  },
  {
   "cell_type": "code",
   "execution_count": 94,
   "metadata": {},
   "outputs": [
    {
     "data": {
      "image/png": "[encoded data removed]",
      "text/plain": [
       "<Figure size 800x500 with 1 Axes>"
      ]
     },
     "metadata": {},
     "output_type": "display_data"
    },
    {
     "name": "stderr",
     "output_type": "stream",
     "text": [
      "----------------------------------------\n",
      "Exception occurred during processing of request from ('127.0.0.1', 64919)\n",
      "Traceback (most recent call last):\n",
      "  File \"C:\\Users\\jerem\\AppData\\Local\\Programs\\Python\\Python310\\lib\\socketserver.py\", line 316, in _handle_request_noblock\n",
      "    self.process_request(request, client_address)\n",
      "  File \"C:\\Users\\jerem\\AppData\\Local\\Programs\\Python\\Python310\\lib\\socketserver.py\", line 347, in process_request\n",
      "    self.finish_request(request, client_address)\n",
      "  File \"C:\\Users\\jerem\\AppData\\Local\\Programs\\Python\\Python310\\lib\\socketserver.py\", line 360, in finish_request\n",
      "    self.RequestHandlerClass(request, client_address, self)\n",
      "  File \"C:\\Users\\jerem\\AppData\\Local\\Programs\\Python\\Python310\\lib\\socketserver.py\", line 747, in __init__\n",
      "    self.handle()\n",
      "  File \"c:\\Users\\jerem\\Per_scholas_python_practice\\capstone_work\\lib\\site-packages\\pyspark\\accumulators.py\", line 281, in handle\n",
      "    poll(accum_updates)\n",
      "  File \"c:\\Users\\jerem\\Per_scholas_python_practice\\capstone_work\\lib\\site-packages\\pyspark\\accumulators.py\", line 253, in poll\n",
      "    if func():\n",
      "  File \"c:\\Users\\jerem\\Per_scholas_python_practice\\capstone_work\\lib\\site-packages\\pyspark\\accumulators.py\", line 257, in accum_updates\n",
      "    num_updates = read_int(self.rfile)\n",
      "  File \"c:\\Users\\jerem\\Per_scholas_python_practice\\capstone_work\\lib\\site-packages\\pyspark\\serializers.py\", line 593, in read_int\n",
      "    length = stream.read(4)\n",
      "  File \"C:\\Users\\jerem\\AppData\\Local\\Programs\\Python\\Python310\\lib\\socket.py\", line 705, in readinto\n",
      "    return self._sock.recv_into(b)\n",
      "ConnectionResetError: [WinError 10054] An existing connection was forcibly closed by the remote host\n",
      "----------------------------------------\n"
     ]
    }
   ],
   "source": [
    "df_healthc.plot(kind='bar', x='BRANCH_CODE', y='TRANSACTION_SUM',  figsize=(8, 5))\n",
    "\n",
    "# add a title to the histogram\n",
    "pyplot.title('Highest Value of Healthcare Transactions by Branch (Top 5)')\n",
    "# add y-label\n",
    "pyplot.ylim(22500,24000)\n",
    "\n",
    "pyplot.show()"
   ]
  },
  {
   "attachments": {},
   "cell_type": "markdown",
   "metadata": {},
   "source": []
  },
  {
   "cell_type": "code",
   "execution_count": null,
   "metadata": {},
   "outputs": [],
   "source": []
  }
 ],
 "metadata": {
  "kernelspec": {
   "display_name": "capstone_work",
   "language": "python",
   "name": "python3"
  },
  "language_info": {
   "codemirror_mode": {
    "name": "ipython",
    "version": 3
   },
   "file_extension": ".py",
   "mimetype": "text/x-python",
   "name": "python",
   "nbconvert_exporter": "python",
   "pygments_lexer": "ipython3",
   "version": "3.10.9"
  },
  "orig_nbformat": 4,
  "vscode": {
   "interpreter": {
    "hash": "edfd4e138670952aff9dfbbe5dbeb32b572155668808a303cfb5e352dfcbc907"
   }
  }
 },
 "nbformat": 4,
 "nbformat_minor": 2
}
